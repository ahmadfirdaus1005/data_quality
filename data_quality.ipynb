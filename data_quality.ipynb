{
 "cells": [
  {
   "cell_type": "markdown",
   "id": "ea39d9fa-1152-4694-8f37-acd12b55ca1c",
   "metadata": {
    "tags": []
   },
   "source": [
    "## An easy way to guarantee the quality of your data"
   ]
  },
  {
   "cell_type": "markdown",
   "id": "1bb2c3c6-66a0-4e51-9374-80fba0fc2fd5",
   "metadata": {},
   "source": [
    "\n",
    "\n",
    "In this series, we'll delve into the world of data analytics and explore real-world scenarios to learn how data quality plays a pivotal role in making informed decisions. Today, we start with the fundamental question: What is data quality and why does it matter?\n",
    "\n",
    "\"Data quality is defined as data's dependability, accuracy, consistency, and completeness.\"\n",
    "\n",
    "Consider your data to be the foundation of a building. High data quality ensures the trustworthiness of your insights and judgements, much as a good foundation provides the durability of a construction. Poor data quality can lead to incorrect conclusions, ill-advised initiatives, and missed opportunities.\n",
    "\n",
    "\n",
    "\n",
    "Let's have a practice to identify your data quality, Here is a sample case study you may consider to learn.\n",
    "Case Study: Data of Mall Customers\n",
    "\n",
    "### Scenario:\n",
    "Imagine you are working for a shopping mall and have access to a dataset containing customer information, including CustomerID, Gender, Age, Annual Income, and Spending Score. Your task is to perform a comprehensive analysis to better understand your customers and tailor your marketing strategies accordingly. However, the dataset has some issues that need to be addressed.\n",
    "\n",
    "### Problem: \n",
    "Upon inspecting the dataset, you discover several data quality challenges:\n",
    "- Missing Values: Some rows in the dataset have missing values, particularly in the Annual Income column.\n",
    "- Duplicate Entries: The dataset contains duplicate customer entries, which can skew your analysis.\n",
    "- Outliers: There appear to be outliers in the Spending Score column that might affect your segmentation.\n",
    "\n",
    "To address these challenges and ensure the quality of your analysis, you follow these steps:\n",
    "- Data Profiling: Using Python, you perform data profiling on the dataset. You calculate summary statistics for each column, including mean, median, and standard deviation. Additionally, you identify the percentage of missing values in the Annual Income column and explore the distribution of data points in the Age and Spending Score columns.\n",
    "- Data Cleaning: Armed with insights from data profiling, you start cleaning the dataset. You handle missing values in the Annual Income column by imputing them with the median value. To deal with duplicate entries, you remove any repeated CustomerID records. To address outliers in the Spending Score column, you apply appropriate outlier detection and handling techniques."
   ]
  },
  {
   "cell_type": "markdown",
   "id": "41d88712-3fe4-4fa2-91a2-619383c76f77",
   "metadata": {},
   "source": [
    "## Library"
   ]
  },
  {
   "cell_type": "code",
   "execution_count": 1,
   "id": "f02f2579-e93b-4e3b-9047-0a83d3968d9c",
   "metadata": {},
   "outputs": [],
   "source": [
    "import pandas as pd\n",
    "import numpy as np"
   ]
  },
  {
   "cell_type": "markdown",
   "id": "4bec0e92-90a2-4516-bff0-5a980ea06d9e",
   "metadata": {},
   "source": [
    "## Load dataset"
   ]
  },
  {
   "cell_type": "code",
   "execution_count": 2,
   "id": "2ca0c107-9327-4141-80ee-696847733241",
   "metadata": {},
   "outputs": [
    {
     "data": {
      "text/html": [
       "<div>\n",
       "<style scoped>\n",
       "    .dataframe tbody tr th:only-of-type {\n",
       "        vertical-align: middle;\n",
       "    }\n",
       "\n",
       "    .dataframe tbody tr th {\n",
       "        vertical-align: top;\n",
       "    }\n",
       "\n",
       "    .dataframe thead th {\n",
       "        text-align: right;\n",
       "    }\n",
       "</style>\n",
       "<table border=\"1\" class=\"dataframe\">\n",
       "  <thead>\n",
       "    <tr style=\"text-align: right;\">\n",
       "      <th></th>\n",
       "      <th>CustomerID</th>\n",
       "      <th>Gender</th>\n",
       "      <th>Age</th>\n",
       "      <th>Annual Income (k$)</th>\n",
       "      <th>Spending Score (1-100)</th>\n",
       "    </tr>\n",
       "  </thead>\n",
       "  <tbody>\n",
       "    <tr>\n",
       "      <th>0</th>\n",
       "      <td>1</td>\n",
       "      <td>Male</td>\n",
       "      <td>19.0</td>\n",
       "      <td>15.0</td>\n",
       "      <td>39.0</td>\n",
       "    </tr>\n",
       "    <tr>\n",
       "      <th>1</th>\n",
       "      <td>2</td>\n",
       "      <td>Male</td>\n",
       "      <td>21.0</td>\n",
       "      <td>15.0</td>\n",
       "      <td>81.0</td>\n",
       "    </tr>\n",
       "    <tr>\n",
       "      <th>2</th>\n",
       "      <td>3</td>\n",
       "      <td>Female</td>\n",
       "      <td>20.0</td>\n",
       "      <td>16.0</td>\n",
       "      <td>6.0</td>\n",
       "    </tr>\n",
       "    <tr>\n",
       "      <th>3</th>\n",
       "      <td>4</td>\n",
       "      <td>Female</td>\n",
       "      <td>23.0</td>\n",
       "      <td>16.0</td>\n",
       "      <td>77.0</td>\n",
       "    </tr>\n",
       "    <tr>\n",
       "      <th>4</th>\n",
       "      <td>4</td>\n",
       "      <td>Female</td>\n",
       "      <td>23.0</td>\n",
       "      <td>16.0</td>\n",
       "      <td>77.0</td>\n",
       "    </tr>\n",
       "  </tbody>\n",
       "</table>\n",
       "</div>"
      ],
      "text/plain": [
       "   CustomerID  Gender   Age  Annual Income (k$)  Spending Score (1-100)\n",
       "0           1    Male  19.0                15.0                    39.0\n",
       "1           2    Male  21.0                15.0                    81.0\n",
       "2           3  Female  20.0                16.0                     6.0\n",
       "3           4  Female  23.0                16.0                    77.0\n",
       "4           4  Female  23.0                16.0                    77.0"
      ]
     },
     "execution_count": 2,
     "metadata": {},
     "output_type": "execute_result"
    }
   ],
   "source": [
    "data = pd.read_csv(\"Mall_Customers_uncleaned.csv\")\n",
    "data.head()"
   ]
  },
  {
   "cell_type": "code",
   "execution_count": 3,
   "id": "61996892-7448-4eb0-bf2b-46ec6597edd8",
   "metadata": {},
   "outputs": [
    {
     "name": "stdout",
     "output_type": "stream",
     "text": [
      "<class 'pandas.core.frame.DataFrame'>\n",
      "RangeIndex: 204 entries, 0 to 203\n",
      "Data columns (total 5 columns):\n",
      " #   Column                  Non-Null Count  Dtype  \n",
      "---  ------                  --------------  -----  \n",
      " 0   CustomerID              204 non-null    int64  \n",
      " 1   Gender                  204 non-null    object \n",
      " 2   Age                     202 non-null    float64\n",
      " 3   Annual Income (k$)      200 non-null    float64\n",
      " 4   Spending Score (1-100)  200 non-null    float64\n",
      "dtypes: float64(3), int64(1), object(1)\n",
      "memory usage: 8.1+ KB\n"
     ]
    }
   ],
   "source": [
    "data.info()"
   ]
  },
  {
   "cell_type": "markdown",
   "id": "1511f382-63be-4bb5-b089-2b35746cc8ed",
   "metadata": {},
   "source": [
    "## Check missing value"
   ]
  },
  {
   "cell_type": "code",
   "execution_count": 4,
   "id": "d0067fac-5dd2-4695-bb42-32809cf87a4e",
   "metadata": {},
   "outputs": [
    {
     "data": {
      "text/plain": [
       "CustomerID                0\n",
       "Gender                    0\n",
       "Age                       2\n",
       "Annual Income (k$)        4\n",
       "Spending Score (1-100)    4\n",
       "dtype: int64"
      ]
     },
     "execution_count": 4,
     "metadata": {},
     "output_type": "execute_result"
    }
   ],
   "source": [
    "#check missing value\n",
    "data.isnull().sum()"
   ]
  },
  {
   "cell_type": "markdown",
   "id": "7dcb9e91-71db-4c86-b5a2-63e76714546a",
   "metadata": {},
   "source": [
    "as we can see that feature Age, Annual Income, and Spending Score have missing value, there are two option we can use to clean the data\n",
    "1. Remove the missing value, in this case, the value should be under your threshold, for example you can remove the null if the null have under 5%.\n",
    "2. Filling the missing value by using mean or median of the data.\n",
    "\n",
    "for this case, I want to fill the null by using median"
   ]
  },
  {
   "cell_type": "code",
   "execution_count": 5,
   "id": "2c0e4022-4be3-48d2-a838-114fb7fbc2b6",
   "metadata": {},
   "outputs": [],
   "source": [
    "# Calculate the median of each column\n",
    "age_median = data['Age'].median()\n",
    "income_median = data['Annual Income (k$)'].median()\n",
    "score_median = data['Spending Score (1-100)'].median()\n",
    "\n",
    "# Fill missing values with medians\n",
    "data['Age'].fillna(age_median, inplace=True)\n",
    "data['Annual Income (k$)'].fillna(income_median, inplace=True)\n",
    "data['Spending Score (1-100)'].fillna(score_median, inplace=True)\n",
    "\n",
    "# Check if there are any more missing values\n",
    "missing_values = data.isnull().sum()"
   ]
  },
  {
   "cell_type": "code",
   "execution_count": 6,
   "id": "17cbcd86-0231-4191-a5d2-6e5ac6c57bc4",
   "metadata": {},
   "outputs": [
    {
     "data": {
      "text/plain": [
       "CustomerID                0\n",
       "Gender                    0\n",
       "Age                       0\n",
       "Annual Income (k$)        0\n",
       "Spending Score (1-100)    0\n",
       "dtype: int64"
      ]
     },
     "execution_count": 6,
     "metadata": {},
     "output_type": "execute_result"
    }
   ],
   "source": [
    "missing_values "
   ]
  },
  {
   "cell_type": "markdown",
   "id": "cd84ef7c-bfe0-43ad-8f6a-5c6d50ea669b",
   "metadata": {},
   "source": [
    "## Check duplicated value"
   ]
  },
  {
   "cell_type": "code",
   "execution_count": 7,
   "id": "55f9a29e-6033-4d6f-8e12-53729f668e32",
   "metadata": {},
   "outputs": [
    {
     "data": {
      "text/plain": [
       "4"
      ]
     },
     "execution_count": 7,
     "metadata": {},
     "output_type": "execute_result"
    }
   ],
   "source": [
    "data.duplicated().sum()"
   ]
  },
  {
   "cell_type": "markdown",
   "id": "05b2aeff-867d-4ef3-ad1e-9aa43b6f1a59",
   "metadata": {},
   "source": [
    "as you can see, we identified duplicated value, so we need to remove the dupicated data"
   ]
  },
  {
   "cell_type": "code",
   "execution_count": 8,
   "id": "bda2bfba-4e86-4c48-97eb-91f33c60a3dd",
   "metadata": {},
   "outputs": [],
   "source": [
    "# Remove duplicated rows\n",
    "data = data.drop_duplicates()"
   ]
  },
  {
   "cell_type": "code",
   "execution_count": 9,
   "id": "1d795691-1ab7-49c0-9af9-0cd135547460",
   "metadata": {},
   "outputs": [
    {
     "data": {
      "text/plain": [
       "0"
      ]
     },
     "execution_count": 9,
     "metadata": {},
     "output_type": "execute_result"
    }
   ],
   "source": [
    "data.duplicated().sum()"
   ]
  },
  {
   "cell_type": "markdown",
   "id": "5261e0ab-eaa3-48de-9151-1bad68cf3112",
   "metadata": {},
   "source": [
    "## Check inconsistency"
   ]
  },
  {
   "cell_type": "code",
   "execution_count": 10,
   "id": "f6917099-93c8-457e-9d93-2f5cc94c8f18",
   "metadata": {},
   "outputs": [
    {
     "data": {
      "text/plain": [
       "count        200\n",
       "unique         4\n",
       "top       Female\n",
       "freq         111\n",
       "Name: Gender, dtype: object"
      ]
     },
     "execution_count": 10,
     "metadata": {},
     "output_type": "execute_result"
    }
   ],
   "source": [
    "data['Gender'].describe()"
   ]
  },
  {
   "cell_type": "code",
   "execution_count": 12,
   "id": "5cb87d9c-22c6-4bfa-957e-dd1569d98963",
   "metadata": {},
   "outputs": [
    {
     "data": {
      "text/plain": [
       "array(['Male', 'Female', '0', '1'], dtype=object)"
      ]
     },
     "execution_count": 12,
     "metadata": {},
     "output_type": "execute_result"
    }
   ],
   "source": [
    "data['Gender'].unique()"
   ]
  },
  {
   "cell_type": "code",
   "execution_count": 14,
   "id": "0052a8f1-fc5d-4424-9c59-789b267259b9",
   "metadata": {},
   "outputs": [
    {
     "data": {
      "text/html": [
       "<div>\n",
       "<style scoped>\n",
       "    .dataframe tbody tr th:only-of-type {\n",
       "        vertical-align: middle;\n",
       "    }\n",
       "\n",
       "    .dataframe tbody tr th {\n",
       "        vertical-align: top;\n",
       "    }\n",
       "\n",
       "    .dataframe thead th {\n",
       "        text-align: right;\n",
       "    }\n",
       "</style>\n",
       "<table border=\"1\" class=\"dataframe\">\n",
       "  <thead>\n",
       "    <tr style=\"text-align: right;\">\n",
       "      <th></th>\n",
       "      <th>CustomerID</th>\n",
       "      <th>Gender</th>\n",
       "      <th>Age</th>\n",
       "      <th>Annual Income (k$)</th>\n",
       "      <th>Spending Score (1-100)</th>\n",
       "    </tr>\n",
       "  </thead>\n",
       "  <tbody>\n",
       "    <tr>\n",
       "      <th>0</th>\n",
       "      <td>1</td>\n",
       "      <td>Male</td>\n",
       "      <td>19.0</td>\n",
       "      <td>15.0</td>\n",
       "      <td>39.0</td>\n",
       "    </tr>\n",
       "    <tr>\n",
       "      <th>1</th>\n",
       "      <td>2</td>\n",
       "      <td>Male</td>\n",
       "      <td>21.0</td>\n",
       "      <td>15.0</td>\n",
       "      <td>81.0</td>\n",
       "    </tr>\n",
       "    <tr>\n",
       "      <th>2</th>\n",
       "      <td>3</td>\n",
       "      <td>Female</td>\n",
       "      <td>20.0</td>\n",
       "      <td>16.0</td>\n",
       "      <td>6.0</td>\n",
       "    </tr>\n",
       "    <tr>\n",
       "      <th>3</th>\n",
       "      <td>4</td>\n",
       "      <td>Female</td>\n",
       "      <td>23.0</td>\n",
       "      <td>16.0</td>\n",
       "      <td>77.0</td>\n",
       "    </tr>\n",
       "    <tr>\n",
       "      <th>6</th>\n",
       "      <td>5</td>\n",
       "      <td>Female</td>\n",
       "      <td>31.0</td>\n",
       "      <td>17.0</td>\n",
       "      <td>40.0</td>\n",
       "    </tr>\n",
       "    <tr>\n",
       "      <th>...</th>\n",
       "      <td>...</td>\n",
       "      <td>...</td>\n",
       "      <td>...</td>\n",
       "      <td>...</td>\n",
       "      <td>...</td>\n",
       "    </tr>\n",
       "    <tr>\n",
       "      <th>199</th>\n",
       "      <td>196</td>\n",
       "      <td>Female</td>\n",
       "      <td>35.0</td>\n",
       "      <td>120.0</td>\n",
       "      <td>79.0</td>\n",
       "    </tr>\n",
       "    <tr>\n",
       "      <th>200</th>\n",
       "      <td>197</td>\n",
       "      <td>Female</td>\n",
       "      <td>45.0</td>\n",
       "      <td>126.0</td>\n",
       "      <td>28.0</td>\n",
       "    </tr>\n",
       "    <tr>\n",
       "      <th>201</th>\n",
       "      <td>198</td>\n",
       "      <td>Male</td>\n",
       "      <td>32.0</td>\n",
       "      <td>126.0</td>\n",
       "      <td>74.0</td>\n",
       "    </tr>\n",
       "    <tr>\n",
       "      <th>202</th>\n",
       "      <td>199</td>\n",
       "      <td>Male</td>\n",
       "      <td>32.0</td>\n",
       "      <td>137.0</td>\n",
       "      <td>18.0</td>\n",
       "    </tr>\n",
       "    <tr>\n",
       "      <th>203</th>\n",
       "      <td>200</td>\n",
       "      <td>Male</td>\n",
       "      <td>30.0</td>\n",
       "      <td>137.0</td>\n",
       "      <td>83.0</td>\n",
       "    </tr>\n",
       "  </tbody>\n",
       "</table>\n",
       "<p>198 rows × 5 columns</p>\n",
       "</div>"
      ],
      "text/plain": [
       "     CustomerID  Gender   Age  Annual Income (k$)  Spending Score (1-100)\n",
       "0             1    Male  19.0                15.0                    39.0\n",
       "1             2    Male  21.0                15.0                    81.0\n",
       "2             3  Female  20.0                16.0                     6.0\n",
       "3             4  Female  23.0                16.0                    77.0\n",
       "6             5  Female  31.0                17.0                    40.0\n",
       "..          ...     ...   ...                 ...                     ...\n",
       "199         196  Female  35.0               120.0                    79.0\n",
       "200         197  Female  45.0               126.0                    28.0\n",
       "201         198    Male  32.0               126.0                    74.0\n",
       "202         199    Male  32.0               137.0                    18.0\n",
       "203         200    Male  30.0               137.0                    83.0\n",
       "\n",
       "[198 rows x 5 columns]"
      ]
     },
     "execution_count": 14,
     "metadata": {},
     "output_type": "execute_result"
    }
   ],
   "source": [
    "# Removing inconsistent values\n",
    "valid_genders = ['Male', 'Female']\n",
    "cleaned_data = data[data['Gender'].isin(valid_genders)]\n",
    "cleaned_data"
   ]
  },
  {
   "cell_type": "code",
   "execution_count": 15,
   "id": "2f9ca0fb-9951-4951-afca-6a7373bdb3e0",
   "metadata": {},
   "outputs": [
    {
     "data": {
      "text/plain": [
       "array(['Male', 'Female'], dtype=object)"
      ]
     },
     "execution_count": 15,
     "metadata": {},
     "output_type": "execute_result"
    }
   ],
   "source": [
    "cleaned_data['Gender'].unique()"
   ]
  },
  {
   "cell_type": "markdown",
   "id": "886d0499-d95b-4514-8d9e-0604bd7b617e",
   "metadata": {},
   "source": [
    "## Check outlier"
   ]
  },
  {
   "cell_type": "code",
   "execution_count": 17,
   "id": "1ecf779f-95d4-46f7-b166-8ea9ac4df87b",
   "metadata": {},
   "outputs": [
    {
     "data": {
      "image/png": "[encoded data removed]",
      "text/plain": [
       "<Figure size 1200x800 with 3 Axes>"
      ]
     },
     "metadata": {},
     "output_type": "display_data"
    }
   ],
   "source": [
    "import matplotlib.pyplot as plt\n",
    "\n",
    "# Select only the numerical columns for outlier analysis\n",
    "numerical_columns = ['Age', 'Annual Income (k$)', 'Spending Score (1-100)']\n",
    "\n",
    "# Set up a color palette for the box plots\n",
    "colors = ['lightblue', 'lightgreen', 'lightcoral']\n",
    "\n",
    "# Create box plots for each numerical column\n",
    "plt.figure(figsize=(12, 8))\n",
    "for idx, column in enumerate(numerical_columns):\n",
    "    plt.subplot(1, 3, idx + 1)\n",
    "    plt.boxplot(data[column], patch_artist=True, boxprops=dict(facecolor=colors[idx]))\n",
    "    plt.title(f'Box Plot of {column}')\n",
    "    plt.ylabel(column)\n",
    "\n",
    "plt.tight_layout()\n",
    "plt.show()"
   ]
  },
  {
   "cell_type": "markdown",
   "id": "9916cfca-392d-4ac4-a5a3-fcc149b675b3",
   "metadata": {},
   "source": [
    "After identifying outlier, now we need to remove the outlier by using Interquartile Range IQR method"
   ]
  },
  {
   "cell_type": "code",
   "execution_count": 18,
   "id": "382d92ed-2a5a-4de0-9b60-6cfaf57bc9c1",
   "metadata": {},
   "outputs": [],
   "source": [
    "# Define the column with outliers\n",
    "outlier_column = 'Annual Income (k$)'\n",
    "\n",
    "# Calculate the Interquartile Range (IQR) for outlier detection\n",
    "Q1 = data[outlier_column].quantile(0.25)\n",
    "Q3 = data[outlier_column].quantile(0.75)\n",
    "IQR = Q3 - Q1\n",
    "\n",
    "# Define the lower and upper bounds for outlier removal\n",
    "lower_bound = Q1 - 1.5 * IQR\n",
    "upper_bound = Q3 + 1.5 * IQR\n",
    "\n",
    "# Remove outliers from the dataset\n",
    "data = data[(data[outlier_column] >= lower_bound) & (data[outlier_column] <= upper_bound)]\n"
   ]
  },
  {
   "cell_type": "code",
   "execution_count": 19,
   "id": "bff9e8fd-c937-4a62-9098-6755b9d08dd8",
   "metadata": {},
   "outputs": [
    {
     "data": {
      "image/png": "[encoded data removed]",
      "text/plain": [
       "<Figure size 1200x800 with 3 Axes>"
      ]
     },
     "metadata": {},
     "output_type": "display_data"
    }
   ],
   "source": [
    "# Select only the numerical columns for outlier analysis\n",
    "numerical_columns = ['Age', 'Annual Income (k$)', 'Spending Score (1-100)']\n",
    "\n",
    "# Set up a color palette for the box plots\n",
    "colors = ['lightblue', 'lightgreen', 'lightcoral']\n",
    "\n",
    "# Create box plots for each numerical column\n",
    "plt.figure(figsize=(12, 8))\n",
    "for idx, column in enumerate(numerical_columns):\n",
    "    plt.subplot(1, 3, idx + 1)\n",
    "    plt.boxplot(data[column], patch_artist=True, boxprops=dict(facecolor=colors[idx]))\n",
    "    plt.title(f'Box Plot of {column}')\n",
    "    plt.ylabel(column)\n",
    "\n",
    "plt.tight_layout()\n",
    "plt.show()"
   ]
  },
  {
   "cell_type": "code",
   "execution_count": 20,
   "id": "4b0d18bd-9559-401c-8659-d715dbe81b8e",
   "metadata": {},
   "outputs": [
    {
     "name": "stdout",
     "output_type": "stream",
     "text": [
      "<class 'pandas.core.frame.DataFrame'>\n",
      "Int64Index: 198 entries, 0 to 201\n",
      "Data columns (total 5 columns):\n",
      " #   Column                  Non-Null Count  Dtype  \n",
      "---  ------                  --------------  -----  \n",
      " 0   CustomerID              198 non-null    int64  \n",
      " 1   Gender                  198 non-null    object \n",
      " 2   Age                     198 non-null    float64\n",
      " 3   Annual Income (k$)      198 non-null    float64\n",
      " 4   Spending Score (1-100)  198 non-null    float64\n",
      "dtypes: float64(3), int64(1), object(1)\n",
      "memory usage: 9.3+ KB\n"
     ]
    }
   ],
   "source": [
    "data.info()"
   ]
  },
  {
   "cell_type": "code",
   "execution_count": null,
   "id": "3a18de20-3c08-443b-a12a-549345f71795",
   "metadata": {},
   "outputs": [],
   "source": []
  }
 ],
 "metadata": {
  "kernelspec": {
   "display_name": "Python 3 (ipykernel)",
   "language": "python",
   "name": "python3"
  },
  "language_info": {
   "codemirror_mode": {
    "name": "ipython",
    "version": 3
   },
   "file_extension": ".py",
   "mimetype": "text/x-python",
   "name": "python",
   "nbconvert_exporter": "python",
   "pygments_lexer": "ipython3",
   "version": "3.10.9"
  }
 },
 "nbformat": 4,
 "nbformat_minor": 5
}
